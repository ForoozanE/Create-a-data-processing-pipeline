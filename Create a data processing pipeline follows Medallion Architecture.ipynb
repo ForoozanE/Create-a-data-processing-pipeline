{
 "cells": [
  {
   "cell_type": "markdown",
   "id": "582af288-1f27-43bd-b8da-96154ead98bf",
   "metadata": {},
   "source": [
    "## Create a data processing pipeline follows Medallion Architecture"
   ]
  },
  {
   "cell_type": "markdown",
   "id": "a060fa8a-3a88-40e3-ba61-3e1e496f9ccf",
   "metadata": {},
   "source": [
    "## Introduction\n",
    "The goal of this project is to predict property prices using a big data method that is combined with machine learning models. By leveraging a dataset containing the UK house properties and price, we aim to estimate the price value based on the other columns. Accurate price prediction is essential for supporting market dynamics for buyers and sellers. In today's world, explosion of the data and updating them permanently demands the big datasets approaches to handling. So, to handle the large-scale dataset efficiently, we employed Spark and used the Medallion Architecture and MapReduce, ensuring scalable and optimized data processing."
   ]
  },
  {
   "cell_type": "markdown",
   "id": "c40b3b05-1e7e-4edd-8343-d8147cd712ad",
   "metadata": {},
   "source": [
    "## Methodology\n",
    "### 1. Big Data Framework:\n",
    "\n",
    "The data pipeline was designed using the Medallion Architecture, consisting of three layers:\n",
    "- Bronze Layer: Raw data ingestion and using Hadoop for storage.\n",
    "- Silver Layer: Data cleaning, normalization, and feature engineering.\n",
    "- Gold Layer: Aggregated and feature-rich data ready for advanced analytics and model training.\n",
    "For processing large datasets, we utilized MapReduce to perform distributed computations efficiently, allowing parallel processing of data across multiple nodes.\n",
    "\n",
    "### 2. Data Preprocessing:\n",
    "\n",
    "Data was inspected for missing values, outliers, and inconsistencies in the Bronze and Silver layers.\n",
    "Relevant features were selected, and the target variable (price) was normalized for consistent scaling in model training.\n",
    "\n",
    "### 3.Model Training:\n",
    "\n",
    "Two machine learning models were trained and evaluated: Random Forest and Gradient Boosting (XGBoost).\n",
    "Data from the Gold layer was used to train the models, ensuring only clean, preprocessed data was fed into the algorithms.\n",
    "Predictions were inverse-normalized to interpret them on the original price scale.\n",
    "### 4.Model Evaluation:\n",
    "\n",
    "Performance metrics, including Root Mean Squared Error (RMSE), Mean Absolute Error (MAE), and R² (coefficient of determination), were used to evaluate the models."
   ]
  },
  {
   "cell_type": "markdown",
   "id": "b4522e95-104e-4ff3-b475-bbe37c26cca7",
   "metadata": {},
   "source": [
    "## Conclusion\n",
    "- The Random Forest model performed slightly better in terms of RMSE, while the XGBoost model had a marginally lower MAE. Both models exhibited low error values, but the low R² scores suggest potential underfitting and room for improvement.\n",
    "- The use of Medallion Architecture allowed for a structured and efficient data pipeline, while MapReduce enabled the handling of large datasets with scalability and reliability.\n",
    "- Future enhancements could include:\n",
    "     - Leverage Spark’s distributed computing and MLlib for faster model training and predictions.\n",
    "     - Using techniques like Grid Search and Bayesian Optimization to fine-tune model parameters.\n",
    "     - Integrating real-time predictions by extending the Gold layer with streaming data.\n",
    "This project demonstrates the practical integration of big data frameworks and machine learning to solve real-world problems in the real estate domain, paving the way for deeper insights and actionable analytics."
   ]
  },
  {
   "cell_type": "markdown",
   "id": "f8ef9100-a827-42b2-b5fa-21b536ce6df8",
   "metadata": {},
   "source": [
    "### Model Performance Comparison:\n",
    "\n",
    "| Model        | RMSE    | MAE      | R²      |\n",
    "|--------------|---------|----------|---------|\n",
    "| Random Forest| 0.086664| 0.000882 | 0.086664|\n",
    "| XGBoost      | 0.096235| 0.000869 | 0.096235|"
   ]
  },
  {
   "cell_type": "markdown",
   "id": "8343c0b9-315e-4006-bd6e-aca8c377d387",
   "metadata": {},
   "source": [
    "We learned using Apache Spark for managing big data and applying machine learning models (Random Forest and XGBoost) for predicting prices for UK houses. Besides that, we optimized data processing by using partitioning and cashing in Spark, reducing computation time and making the data transformation and training faster. By leveraging auto-scaling and fault tolerance, we ensured the system could handle growing data volumes without compromising performance. We use ChatGPT for error checking in code as part of this project role."
   ]
  },
  {
   "cell_type": "markdown",
   "id": "596c591d-9f83-4f9a-8fa9-aa47c63cf842",
   "metadata": {},
   "source": [
    "### Step 1 : Bronze Layer"
   ]
  },
  {
   "cell_type": "code",
   "execution_count": 1,
   "id": "80ae37e5-7aaf-4321-b95e-52a0d26e3fb5",
   "metadata": {},
   "outputs": [
    {
     "name": "stdout",
     "output_type": "stream",
     "text": [
      "Requirement already satisfied: pyspark in /home/ubuntu/.local/lib/python3.8/site-packages (3.5.3)\n",
      "Requirement already satisfied: py4j==0.10.9.7 in /home/ubuntu/.local/lib/python3.8/site-packages (from pyspark) (0.10.9.7)\n"
     ]
    }
   ],
   "source": [
    "!pip install pyspark"
   ]
  },
  {
   "cell_type": "markdown",
   "id": "8a95f7f3-f1f4-4bad-b427-ed994fccfd32",
   "metadata": {},
   "source": [
    "#### Library & Package"
   ]
  },
  {
   "cell_type": "code",
   "execution_count": 2,
   "id": "74330dff-5b21-4fcb-8bfa-6e8980a44aea",
   "metadata": {},
   "outputs": [],
   "source": [
    "try:\n",
    "    sc.stop()\n",
    "except:\n",
    "    pass\n",
    "\n",
    "try:\n",
    "    spark.stop()\n",
    "except:\n",
    "    pass\n"
   ]
  },
  {
   "cell_type": "code",
   "execution_count": 3,
   "id": "ffbf6db4-8313-4a30-8cc5-d888fe596549",
   "metadata": {},
   "outputs": [],
   "source": [
    "from pyspark import StorageLevel\n",
    "from pyspark.sql import SparkSession\n",
    "from pyspark import SparkContext, SparkConf"
   ]
  },
  {
   "cell_type": "markdown",
   "id": "cc4c81f0-d8fa-4b5b-b58e-0546d8c6d104",
   "metadata": {},
   "source": [
    "#### Initialize SparkContext for Housing Price Cleaning Application"
   ]
  },
  {
   "cell_type": "code",
   "execution_count": 4,
   "id": "cede0b02-826e-41f2-a069-7f8d574b8f8c",
   "metadata": {},
   "outputs": [],
   "source": [
    "#conf = SparkConf().setAppName(\"HousingPriceCleaning\").setMaster(\"local[*]\")\n",
    "#sc = SparkContext(conf=conf)"
   ]
  },
  {
   "cell_type": "code",
   "execution_count": 5,
   "id": "33f148e3-4e2a-47e9-8368-90caa1667fad",
   "metadata": {},
   "outputs": [],
   "source": [
    "# Set up Spark configuration and allocate 4 GB memory to both the driver and executor\n",
    "conf = SparkConf() \\\n",
    "    .setAppName(\"HousingPriceCleaning\") \\\n",
    "    .setMaster(\"local[*]\") \\\n",
    "    .set(\"spark.executor.memory\", \"4g\") \\\n",
    "    .set(\"spark.driver.memory\", \"4g\")\n",
    "\n",
    "sc = SparkContext(conf=conf)"
   ]
  },
  {
   "cell_type": "markdown",
   "id": "5f24a5c1-d4be-400c-9ddb-a959f445977e",
   "metadata": {},
   "source": [
    "#### Read the File"
   ]
  },
  {
   "cell_type": "code",
   "execution_count": 6,
   "id": "cde5a19e-f90c-4af6-b826-7912be521d99",
   "metadata": {},
   "outputs": [],
   "source": [
    "file_path = \"hdfs://namenode:9000/user/ubuntu/FinalProject/Unstructured_Price_paid_records/*\"\n",
    "\n",
    "# Read from HDFS\n",
    "rdd = sc.textFile(file_path)"
   ]
  },
  {
   "cell_type": "markdown",
   "id": "9189884a-77ba-4f7e-b9c5-fc99d9c77a07",
   "metadata": {},
   "source": [
    "#### Repartition and Cache Data"
   ]
  },
  {
   "cell_type": "code",
   "execution_count": 7,
   "id": "e6e0c181-baa5-40b9-bcc3-08b7b331f20a",
   "metadata": {},
   "outputs": [
    {
     "name": "stdout",
     "output_type": "stream",
     "text": [
      "Type of the file:  <class 'pyspark.rdd.RDD'>\n",
      "Default Partition:  4\n",
      "Allocated Partition:  10\n"
     ]
    }
   ],
   "source": [
    "print('Type of the file: ',type(rdd))\n",
    "print('Default Partition: ',sc.defaultParallelism)\n",
    "\n",
    "rdd = rdd.repartition(10) # shuffle all data\n",
    "print('Allocated Partition: ',rdd.getNumPartitions())"
   ]
  },
  {
   "cell_type": "markdown",
   "id": "74f2e4d2-d6c1-48db-bcf9-da0ab1a54a43",
   "metadata": {},
   "source": [
    "#### Show a few rows"
   ]
  },
  {
   "cell_type": "code",
   "execution_count": 8,
   "id": "5eadb909-04a1-4e1f-a87e-4130cce2040e",
   "metadata": {},
   "outputs": [
    {
     "name": "stderr",
     "output_type": "stream",
     "text": [
      "                                                                                \r"
     ]
    },
    {
     "data": {
      "text/plain": [
       "['FYLDE %N# ~LYTHAM ST. ANNES 1995-05-26 00:00:00 S A A 1 9 9 5 - 0 5 - 2 6   0 0 : 0 0 : 0 0 ?{26D2C1C8-A3E3-41CE-BC2B-45C866A5AA8B} $105000 L LANCASHIRE',\n",
       " '1 9 9 5 - 0 1 - 2 0   0 0 : 0 0 : 0 0 F %N# A 1995-01-20 00:00:00 ?{0B76F591-3A20-45C3-9866-3EA912F24661} $59995 ~BELPER DERBYSHIRE AMBER VALLEY D A',\n",
       " 'SOMERSET $31500 %N# 1995-02-28 00:00:00 ?{E8615B54-3171-4C96-ABFF-3EA9203EBF84} SEDGEMOOR A 1 9 9 5 - 0 2 - 2 8   0 0 : 0 0 : 0 0 T A ~BRIDGWATER F',\n",
       " '%N# A $37500 1995-12-08 00:00:00 T MERSEYSIDE ?{09268CEC-8551-4E3A-AED4-3EA9259D3470} WIRRAL F A ~WIRRAL 1 9 9 5 - 1 2 - 0 8   0 0 : 0 0 : 0 0',\n",
       " '1 9 9 5 - 0 4 - 2 4   0 0 : 0 0 : 0 0 DEVON TORRIDGE ?{DA56CFC9-DE18-4A77-9230-3EA92F12B798} A F %N# $41000 T A ~BIDEFORD 1995-04-24 00:00:00',\n",
       " '~FARNBOROUGH $82750 A HAMPSHIRE %N# F 1995-05-02 00:00:00 A S ?{6F40F213-A5F8-497B-92FE-3B1849135192} 1 9 9 5 - 0 5 - 0 2   0 0 : 0 0 : 0 0 HART',\n",
       " 'S A SOUTH YORKSHIRE $34000 ?{9AE61270-4481-4152-841B-4956EDE13AC6} L A ~SHEFFIELD %N# SHEFFIELD 1 9 9 5 - 0 7 - 3 1   0 0 : 0 0 : 0 0 1995-07-31 00:00:00',\n",
       " 'A MIDDLESBROUGH 1995-12-01 00:00:00 ~MIDDLESBROUGH A %N# 1 9 9 5 - 1 2 - 0 1   0 0 : 0 0 : 0 0 S ?{DECB21B3-BCF5-4931-B9C6-45C880BAF99C} $40000 MIDDLESBROUGH F',\n",
       " '1995-03-31 00:00:00 ~SWINDON $55000 A S 1 9 9 5 - 0 3 - 3 1   0 0 : 0 0 : 0 0 A ?{A64E6025-1BF6-4769-B080-45C8B9119ED8} %N# THAMESDOWN F THAMESDOWN',\n",
       " 'T A SEFTON %N# 1995-10-19 00:00:00 MERSEYSIDE ?{245AD0F6-269C-4E7C-81D0-3EA95518A5E5} $28500 ~BOOTLE F A 1 9 9 5 - 1 0 - 1 9   0 0 : 0 0 : 0 0']"
      ]
     },
     "execution_count": 8,
     "metadata": {},
     "output_type": "execute_result"
    }
   ],
   "source": [
    "rdd.take(10)"
   ]
  },
  {
   "cell_type": "code",
   "execution_count": 9,
   "id": "7d9b42bb-ca90-435e-aa45-bae7ded775e2",
   "metadata": {},
   "outputs": [
    {
     "name": "stderr",
     "output_type": "stream",
     "text": [
      "[Stage 3:==============================================>           (8 + 2) / 10]\r"
     ]
    },
    {
     "name": "stdout",
     "output_type": "stream",
     "text": [
      "the number of records is: \u001b[1m 24737562\n"
     ]
    },
    {
     "name": "stderr",
     "output_type": "stream",
     "text": [
      "                                                                                \r"
     ]
    }
   ],
   "source": [
    "print(\"the number of records is:\", '\\033[1m', rdd.count())"
   ]
  },
  {
   "cell_type": "markdown",
   "id": "64adfdbb-60cb-44e5-be4e-92a912faef85",
   "metadata": {},
   "source": [
    "## Step 2: Silver Layer"
   ]
  },
  {
   "cell_type": "markdown",
   "id": "54614cb7-25d5-4fab-9d7d-6eb2bf04d49b",
   "metadata": {},
   "source": [
    "#### 1. Reorder columns using MapReduce"
   ]
  },
  {
   "cell_type": "code",
   "execution_count": 10,
   "id": "02b992c0-d3c4-432c-ae93-fa79992acaed",
   "metadata": {},
   "outputs": [
    {
     "name": "stderr",
     "output_type": "stream",
     "text": [
      "[Stage 7:==============================================>           (8 + 2) / 10]\r"
     ]
    },
    {
     "name": "stdout",
     "output_type": "stream",
     "text": [
      "['93000,2005-11-25,F,None,BRIDGEND,Invalid', '94500,2009-12-04,F,None,KINGSWINFORD,L', \"149000,2007-07-23,F,None,KING'S,Invalid\", '155000,2004-01-23,D,None,MIDDLEWICH,Invalid', '85000,2005-02-18,S,None,STOKE-ON-TRENT,Invalid', '195800,2005-01-28,F,None,BURY,Invalid', '170000,2006-07-24,F,None,WOKING,Invalid', '203500,2010-09-21,T,None,BURY,Invalid', '88000,2001-08-10,T,None,COVENTRY,Invalid', '122500,2002-11-29,D,None,KINGSWINFORD,Invalid']\n"
     ]
    },
    {
     "name": "stderr",
     "output_type": "stream",
     "text": [
      "                                                                                \r"
     ]
    }
   ],
   "source": [
    "def reorder_columns(row):\n",
    "    # Split the row using space as the delimiter\n",
    "    columns = row.split(' ')\n",
    "    \n",
    "    # Initialize variables\n",
    "    price = 'None'\n",
    "    date_of_transfer = 'None'\n",
    "    property_type = 'Unknown'\n",
    "    old_new = 'None'\n",
    "    town_city = 'None'\n",
    "    duration = 'Invalid'\n",
    "    \n",
    "    # Traverse through the columns\n",
    "    for column in columns:\n",
    "        if column.startswith('$'):\n",
    "            price = column[1:]  # Remove $\n",
    "        elif column.startswith('~'):\n",
    "            town_city = column[1:]  # Remove ~ \n",
    "        elif '-' in column and len(column) == 10:\n",
    "            date_of_transfer = column  # Date is in YYYY-MM-DD format\n",
    "        elif column in ['S', 'T', 'F', 'D']:\n",
    "            property_type = column  # Property type can only be S, T, F\n",
    "        elif column in ['Y', 'N']:\n",
    "            old_new = column  # Old/New can only be Y or N\n",
    "        elif column in ['F', 'L']:\n",
    "            duration = column  # Duration can only be F or L\n",
    "    \n",
    "    # Rorder fields\n",
    "    reordered_row = [\n",
    "        price,               # Price\n",
    "        date_of_transfer,    # Date of Transfer\n",
    "        property_type,       # Property Type (S, T, F, or D)\n",
    "        old_new,             # Old/New (Y or N)\n",
    "        town_city,           # Town/City\n",
    "        duration             # Duration (F or L)\n",
    "    ]\n",
    "    \n",
    "    return ','.join(reordered_row)\n",
    "\n",
    "\n",
    "rdd_reordered = rdd.map(reorder_columns)\n",
    "\n",
    "sample_data = rdd_reordered.takeSample(False, 10)\n",
    "print(sample_data)\n"
   ]
  },
  {
   "cell_type": "markdown",
   "id": "c57a78ed-c014-4826-8223-37467c2f0ce7",
   "metadata": {},
   "source": [
    "#### 2. Remove duplicate"
   ]
  },
  {
   "cell_type": "code",
   "execution_count": 11,
   "id": "dca8fb88-31d7-4f49-b9ac-9e185766526f",
   "metadata": {},
   "outputs": [
    {
     "name": "stderr",
     "output_type": "stream",
     "text": [
      "[Stage 13:===================================================>     (9 + 1) / 10]\r"
     ]
    },
    {
     "name": "stdout",
     "output_type": "stream",
     "text": [
      "['150000,2012-04-13,T,None,CLITHEROE,L', '39000,1996-11-22,F,None,ASHFORD,Invalid', '56000,2006-07-17,T,None,OLDHAM,L', '110000,2007-04-19,T,None,KETTERING,Invalid', '340000,2008-06-13,T,None,SLOUGH,Invalid']\n"
     ]
    },
    {
     "name": "stderr",
     "output_type": "stream",
     "text": [
      "                                                                                \r"
     ]
    }
   ],
   "source": [
    "rdd_key_value = rdd_reordered.map(lambda row: (row, 1))\n",
    "\n",
    "#Use reduceByKey to aggregate and remove duplicates\n",
    "rdd_unique = rdd_key_value.reduceByKey(lambda a, b: a).map(lambda x: x[0])\n",
    "\n",
    "# Show Sample\n",
    "sample_data = rdd_unique.takeSample(False, 5)\n",
    "print(sample_data)\n"
   ]
  },
  {
   "cell_type": "code",
   "execution_count": 12,
   "id": "694ef5b2-7433-46f2-b67f-4bd05a50189c",
   "metadata": {},
   "outputs": [
    {
     "name": "stderr",
     "output_type": "stream",
     "text": [
      "[Stage 16:=============================================>           (8 + 2) / 10]\r"
     ]
    },
    {
     "name": "stdout",
     "output_type": "stream",
     "text": [
      "the number of records is: \u001b[1m 22315831\n"
     ]
    },
    {
     "name": "stderr",
     "output_type": "stream",
     "text": [
      "                                                                                \r"
     ]
    }
   ],
   "source": [
    "print(\"the number of records is:\", '\\033[1m', rdd_unique.count())"
   ]
  },
  {
   "cell_type": "markdown",
   "id": "ad6789a8-c863-45e4-a26e-b901f59e2b4a",
   "metadata": {},
   "source": [
    "#### 3. pre-proccessing- One-Hot Encoding for Categorical Variables"
   ]
  },
  {
   "cell_type": "code",
   "execution_count": 13,
   "id": "d465ba6e-ee3c-4039-9ee6-a8877119a442",
   "metadata": {},
   "outputs": [
    {
     "name": "stderr",
     "output_type": "stream",
     "text": [
      "                                                                                \r"
     ]
    }
   ],
   "source": [
    "# Extract all Town/City names from the RDD\n",
    "city_rdd = rdd_unique.map(lambda row: row.split(',')[4])\n",
    "def map_city_to_number(iterator):\n",
    "    city_map = {}\n",
    "    for row in iterator:\n",
    "        city = row.strip()  \n",
    "        if city not in city_map:\n",
    "            city_map[city] = len(city_map)  # Assign a unique number\n",
    "    return iter(city_map.items())\n",
    "\n",
    "# Use mapPartitions to apply the city-number mapping across all partitions\n",
    "city_map_rdd = city_rdd.mapPartitions(map_city_to_number)\n",
    "\n",
    "# Collect the small result into a dictionary\n",
    "city_map = dict(city_map_rdd.collect())  # Collect the small result into a dictionary\n"
   ]
  },
  {
   "cell_type": "code",
   "execution_count": 14,
   "id": "4621763a-8841-4312-87c6-07de9d8f4956",
   "metadata": {},
   "outputs": [],
   "source": [
    "# Step 1: Modify the one_hot_encode function to include label encoding for Town/City\n",
    "def one_hot_encode_with_city(row):\n",
    "    fields = row.split(',')\n",
    "    \n",
    "    # Encoding Property Type\n",
    "    property_type = fields[2]\n",
    "    property_type_encoded = [\n",
    "        1 if property_type == 'S' else 0,  # 'S' -> [1, 0, 0]\n",
    "        1 if property_type == 'T' else 0,  # 'T' -> [0, 1, 0]\n",
    "        1 if property_type == 'F' else 0   # 'F' -> [0, 0, 1]\n",
    "    ]\n",
    "    \n",
    "    # Encoding Old/New\n",
    "    old_new = fields[3]\n",
    "    old_new_encoded = [1 if old_new == 'N' else 0]  # 'N' -> [1], otherwise -> [0]\n",
    "\n",
    "    # Encode Town/City \n",
    "    town_city = fields[4]\n",
    "    town_city_encoded = city_map.get(town_city, -1)  # -1 if city not found in map\n",
    "\n",
    "    # Encode Duration\n",
    "    duration = fields[5]\n",
    "    duration_encoded = [1 if duration == 'F' else 0]  # 'F' -> [1], 'L' -> [0]\n",
    "    \n",
    "    # Combine all features \n",
    "    encoded_row = fields[:2] + property_type_encoded + old_new_encoded + [town_city_encoded] + duration_encoded\n",
    "    return ','.join(map(str, encoded_row))"
   ]
  },
  {
   "cell_type": "code",
   "execution_count": 15,
   "id": "bd0b83e6-d6f4-47a3-882b-a85ee41d75e6",
   "metadata": {},
   "outputs": [
    {
     "name": "stderr",
     "output_type": "stream",
     "text": [
      "[Stage 25:=============================================>           (8 + 2) / 10]\r"
     ]
    },
    {
     "name": "stdout",
     "output_type": "stream",
     "text": [
      "['222000,2006-04-13,D,None,THETFORD,Invalid', '144000,2003-03-14,D,None,CINDERFORD,Invalid', '119000,2000-04-18,F,None,LONDON,Invalid', '98000,1995-11-30,D,None,BURNLEY,Invalid', '57000,2001-06-08,S,None,CREWE,Invalid']\n"
     ]
    },
    {
     "name": "stderr",
     "output_type": "stream",
     "text": [
      "                                                                                \r"
     ]
    }
   ],
   "source": [
    "# Step 2: Apply the updated One-Hot Encoding and Label Encoding to the RDD\n",
    "rdd_encoded = rdd_unique.map(one_hot_encode_with_city)\n",
    "sample_data = rdd_unique.takeSample(False, 5)\n",
    "print(sample_data)"
   ]
  },
  {
   "cell_type": "markdown",
   "id": "21af5786-bece-4a58-a976-fec6e244a81d",
   "metadata": {},
   "source": [
    "#### 4. Normalization of Price Column"
   ]
  },
  {
   "cell_type": "code",
   "execution_count": 16,
   "id": "8fe332c3-1ee1-46fb-9801-e9d440363f8b",
   "metadata": {},
   "outputs": [
    {
     "name": "stderr",
     "output_type": "stream",
     "text": [
      "[Stage 37:=============================================>           (8 + 2) / 10]\r"
     ]
    },
    {
     "name": "stdout",
     "output_type": "stream",
     "text": [
      "['0.0016177856584204818,2012-07-18,0,0,1,0,244,0', '0.001001001021243691,1995-07-07,0,1,0,0,39,0', '0.005510606729126458,2016-03-04,0,0,0,0,126,0', '0.0006673306437546071,1997-10-31,0,0,0,0,433,0', '0.0010111122448039662,2013-08-30,0,0,1,0,104,0']\n"
     ]
    },
    {
     "name": "stderr",
     "output_type": "stream",
     "text": [
      "                                                                                \r"
     ]
    }
   ],
   "source": [
    "# Step 1: Find Min and Max Prices\n",
    "price_min = rdd_unique.map(lambda row: int(row.split(',')[0])).min()\n",
    "price_max = rdd_unique.map(lambda row: int(row.split(',')[0])).max()\n",
    "\n",
    "# Step 2: Apply Min-Max Normalization on Price\n",
    "def normalize_price(row):\n",
    "    fields = row.split(',')\n",
    "    price = int(fields[0])\n",
    "\n",
    "    normalized_price = (price - price_min) / (price_max - price_min)\n",
    "    fields[0] = str(normalized_price)\n",
    "    return ','.join(fields)\n",
    "\n",
    "rdd_normalized = rdd_encoded.map(normalize_price)\n",
    "sample_data = rdd_normalized.takeSample(False, 5)\n",
    "print(sample_data)\n"
   ]
  },
  {
   "cell_type": "markdown",
   "id": "e397c00e-18fe-4341-bdd5-03c5a3dc135e",
   "metadata": {},
   "source": [
    "#### 5. Extract Year and Month from Date of Transfer"
   ]
  },
  {
   "cell_type": "code",
   "execution_count": 17,
   "id": "428ab819-c178-412e-a3df-6e439f7b4770",
   "metadata": {},
   "outputs": [
    {
     "name": "stderr",
     "output_type": "stream",
     "text": [
      "[Stage 43:===================================================>     (9 + 1) / 10]\r"
     ]
    },
    {
     "name": "stdout",
     "output_type": "stream",
     "text": [
      "['0.0002831041484641471,1996,02,0,1,0,0,39,0', '0.002932244721256266,2007,03,0,0,1,0,168,0', '0.0026794641322493845,2006,09,0,0,1,0,10,0', '0.004206258889850949,2014,03,0,0,1,0,787,0', '0.0033215268283268637,2008,02,0,0,0,0,122,0']\n"
     ]
    },
    {
     "name": "stderr",
     "output_type": "stream",
     "text": [
      "                                                                                \r"
     ]
    }
   ],
   "source": [
    "# Function to extract year and month from date\n",
    "def extract_year_month(row):\n",
    "    fields = row.split(',')\n",
    "    date_of_transfer = fields[1]\n",
    "    \n",
    "    year = date_of_transfer.split('-')[0]  # Extract year\n",
    "    month = date_of_transfer.split('-')[1]  # Extract month\n",
    "    \n",
    "    # Replace date \n",
    "    fields[1] = year\n",
    "    fields.insert(2, month)\n",
    "    return ','.join(fields)\n",
    "    \n",
    "#rdd_final = rdd_encoded.map(extract_year_month)\n",
    "rdd_final = rdd_normalized.map(extract_year_month)\n",
    "sample_data = rdd_final.takeSample(False, 5)\n",
    "print(sample_data)\n"
   ]
  },
  {
   "cell_type": "markdown",
   "id": "57059ca0-4eb9-4c5b-b585-0564a42e7c89",
   "metadata": {},
   "source": [
    "#### Data Profiling- Min, Max, and Average Price"
   ]
  },
  {
   "cell_type": "code",
   "execution_count": 18,
   "id": "16994114-9775-432d-80d3-0cf06fb090f1",
   "metadata": {},
   "outputs": [
    {
     "name": "stderr",
     "output_type": "stream",
     "text": [
      "[Stage 55:=============================================>           (8 + 2) / 10]\r"
     ]
    },
    {
     "name": "stdout",
     "output_type": "stream",
     "text": [
      "Min Price: 0.0\n",
      "Max Price: 1.0\n",
      "Average Price: 0.0017990881878055987\n"
     ]
    },
    {
     "name": "stderr",
     "output_type": "stream",
     "text": [
      "                                                                                \r"
     ]
    }
   ],
   "source": [
    "#Extract the price from each row and convert it to a float\n",
    "price_rdd = rdd_final.map(lambda row: float(row.split(',')[0]))\n",
    "\n",
    "#Calculate Min, Max, and Average price\n",
    "min_price = price_rdd.min()\n",
    "max_price = price_rdd.max()\n",
    "avg_price = price_rdd.reduce(lambda a, b: a + b) / price_rdd.count()\n",
    "\n",
    "print(f\"Min Price: {min_price}\")\n",
    "print(f\"Max Price: {max_price}\")\n",
    "print(f\"Average Price: {avg_price}\")\n"
   ]
  },
  {
   "cell_type": "markdown",
   "id": "18aeece6-f3dc-4578-9974-981a4711cfca",
   "metadata": {},
   "source": [
    "#### Distribution of Property Types"
   ]
  },
  {
   "cell_type": "code",
   "execution_count": 19,
   "id": "75cbd24d-b0c4-4122-8949-639a7b2c409a",
   "metadata": {},
   "outputs": [
    {
     "name": "stderr",
     "output_type": "stream",
     "text": [
      "[Stage 58:===================================================>     (9 + 1) / 10]\r"
     ]
    },
    {
     "name": "stdout",
     "output_type": "stream",
     "text": [
      "[('1', 3413214), ('0', 18902617)]\n"
     ]
    },
    {
     "name": "stderr",
     "output_type": "stream",
     "text": [
      "                                                                                \r"
     ]
    }
   ],
   "source": [
    "# Extract Property Type\n",
    "property_type_rdd = rdd_final.map(lambda row: row.split(',')[3])\n",
    "\n",
    "# Count occurrences of each property type\n",
    "property_type_distribution = property_type_rdd.map(lambda x: (x, 1)).reduceByKey(lambda a, b: a + b)\n",
    "\n",
    "sample_property_type_distribution = property_type_distribution.take(10)\n",
    "print(sample_property_type_distribution)\n"
   ]
  },
  {
   "cell_type": "markdown",
   "id": "22c5913f-41b7-4bee-b516-0e094d5a4fed",
   "metadata": {},
   "source": [
    "#### Distribution of Towns/Cities"
   ]
  },
  {
   "cell_type": "code",
   "execution_count": 20,
   "id": "c6b3e5e0-d95d-4ded-92c8-549a3e1fb82c",
   "metadata": {},
   "outputs": [
    {
     "name": "stderr",
     "output_type": "stream",
     "text": [
      "[Stage 70:=============================================>           (8 + 2) / 10]\r"
     ]
    },
    {
     "name": "stdout",
     "output_type": "stream",
     "text": [
      "[('0', 22315831)]\n"
     ]
    },
    {
     "name": "stderr",
     "output_type": "stream",
     "text": [
      "                                                                                \r"
     ]
    }
   ],
   "source": [
    "# Extract Town/City\n",
    "town_city_rdd = rdd_final.map(lambda row: row.split(',')[6])\n",
    "\n",
    "# Count occurrences of each town/city\n",
    "town_city_distribution = town_city_rdd.map(lambda x: (x, 1)).reduceByKey(lambda a, b: a + b)\n",
    "\n",
    "sample_town_city_distribution = town_city_distribution.take(10)\n",
    "print(sample_town_city_distribution)"
   ]
  },
  {
   "cell_type": "markdown",
   "id": "6c718d57-dd87-4b91-8be2-b407f33a4bdc",
   "metadata": {},
   "source": [
    "#### Price Distribution by Year"
   ]
  },
  {
   "cell_type": "code",
   "execution_count": 21,
   "id": "1ff55dbb-044b-48fc-ab1e-d4b19111a1b4",
   "metadata": {},
   "outputs": [
    {
     "name": "stderr",
     "output_type": "stream",
     "text": [
      "[Stage 82:=============================================>           (8 + 2) / 10]\r"
     ]
    },
    {
     "name": "stdout",
     "output_type": "stream",
     "text": [
      "[('2011', 0.002351591960643556), ('1997', 0.0007967186116129756), ('1995', 0.0006910823956458104), ('2002', 0.0013912191424008348), ('2013', 0.0025773546952960066), ('2015', 0.0029649384031409255), ('2017', 0.003252022613587264), ('2000', 0.0010845635052557253), ('2009', 0.0021629843940139054), ('2003', 0.0015769717635048185)]\n"
     ]
    },
    {
     "name": "stderr",
     "output_type": "stream",
     "text": [
      "                                                                                \r"
     ]
    }
   ],
   "source": [
    "# Extract Year and Price\n",
    "year_price_rdd = rdd_final.map(lambda row: (row.split(',')[1], float(row.split(',')[0])))\n",
    "\n",
    "# Aggregate the prices by year\n",
    "year_price_distribution = year_price_rdd.mapValues(lambda x: (x, 1)).reduceByKey(lambda a, b: (a[0] + b[0], a[1] + b[1]))\n",
    "\n",
    "# Compute the average price per year\n",
    "avg_price_per_year = year_price_distribution.mapValues(lambda x: x[0] / x[1])\n",
    "\n",
    "sample_avg_price_per_year = avg_price_per_year.take(10)\n",
    "print(sample_avg_price_per_year)"
   ]
  },
  {
   "cell_type": "markdown",
   "id": "7dd536ed-da88-4197-b238-95464ebb0751",
   "metadata": {},
   "source": [
    "#### Cache the RDD for faster repeated access and performance optimization"
   ]
  },
  {
   "cell_type": "code",
   "execution_count": 22,
   "id": "ac5aad4e-e823-4d7b-a264-edf8d9dcd120",
   "metadata": {},
   "outputs": [
    {
     "data": {
      "text/plain": [
       "PythonRDD[51] at RDD at PythonRDD.scala:53"
      ]
     },
     "execution_count": 22,
     "metadata": {},
     "output_type": "execute_result"
    }
   ],
   "source": [
    "rdd_final.cache()"
   ]
  },
  {
   "cell_type": "markdown",
   "id": "ea7f26e2-6795-4957-bb82-b6576b6ba0f9",
   "metadata": {},
   "source": [
    "#### Repartitioning RDD Based on Town/City Ke"
   ]
  },
  {
   "cell_type": "code",
   "execution_count": 23,
   "id": "bf56da1f-9082-455b-8db5-a94d5503edad",
   "metadata": {},
   "outputs": [
    {
     "name": "stderr",
     "output_type": "stream",
     "text": [
      "[Stage 95:==================================================>       (7 + 1) / 8]\r"
     ]
    },
    {
     "name": "stdout",
     "output_type": "stream",
     "text": [
      "['0.001162780598208095,2011,06,0,0,1,0,503,0', '0.002457017213923329,2007,02,0,0,1,0,39,0', '0.002376127425441127,2013,07,0,0,1,0,321,0', '0.0020323458243917676,2013,07,0,0,1,0,12,0', '0.001001001021243691,2002,09,0,1,0,0,29,0']\n"
     ]
    },
    {
     "name": "stderr",
     "output_type": "stream",
     "text": [
      "                                                                                \r"
     ]
    }
   ],
   "source": [
    "# Create key-value pairs where Town/City is the key\n",
    "rdd_keyed_by_city = rdd_final.map(lambda row: (row.split(',')[6], row)) \n",
    "\n",
    "rdd_repartitioned = rdd_keyed_by_city.repartition(8)\n",
    "rdd_repartitioned_cleaned = rdd_repartitioned.map(lambda x: x[1])\n",
    "\n",
    "sample_data = rdd_repartitioned_cleaned.takeSample(False, 5)\n",
    "print(sample_data)"
   ]
  },
  {
   "cell_type": "markdown",
   "id": "f57422a3-af0b-4a98-8e95-f635e58bec63",
   "metadata": {},
   "source": [
    "#### Result - Data Frame Creation"
   ]
  },
  {
   "cell_type": "code",
   "execution_count": 24,
   "id": "2d8fa7fb-0013-4905-9513-ea340002bbb3",
   "metadata": {},
   "outputs": [
    {
     "name": "stderr",
     "output_type": "stream",
     "text": [
      "                                                                                \r"
     ]
    },
    {
     "name": "stdout",
     "output_type": "stream",
     "text": [
      "+------------+----+-----+--------------+--------------+--------------+-------+----------+--------+\n",
      "|       Price|Year|Month|PropertyType_S|PropertyType_T|PropertyType_F|Old_New|City_Label|Duration|\n",
      "+------------+----+-----+--------------+--------------+--------------+-------+----------+--------+\n",
      "|6.4205256E-4|1995|   04|             0|             0|             1|      0|       262|       0|\n",
      "| 7.785541E-4|1995|   11|             1|             0|             0|      0|       585|       0|\n",
      "| 8.594439E-4|1995|   12|             0|             0|             1|      0|       512|       0|\n",
      "| 5.965015E-4|1995|   02|             1|             0|             0|      0|       742|       0|\n",
      "|0.0013953388|1995|   06|             0|             0|             0|      0|       419|       0|\n",
      "| 6.066633E-4|1995|   05|             0|             0|             1|      0|       172|       0|\n",
      "|3.7410515E-4|1995|   09|             0|             0|             1|      0|       634|       0|\n",
      "| 7.916987E-4|1995|   05|             0|             0|             1|      0|        39|       0|\n",
      "|4.1455004E-4|1995|   04|             1|             0|             0|      0|       401|       0|\n",
      "| 6.405359E-4|1995|   06|             0|             0|             1|      0|        39|       0|\n",
      "+------------+----+-----+--------------+--------------+--------------+-------+----------+--------+\n",
      "only showing top 10 rows\n",
      "\n"
     ]
    }
   ],
   "source": [
    "from pyspark.sql.types import StructType, StructField, FloatType, StringType, IntegerType\n",
    "\n",
    "spark = SparkSession.builder.appName(\"HousingPricePrediction\").getOrCreate()\n",
    "\n",
    "# Define schema for the DataFrame\n",
    "schema = StructType([\n",
    "    StructField(\"Price\", FloatType(), True),\n",
    "    StructField(\"Year\", StringType(), True),\n",
    "    StructField(\"Month\", StringType(), True),\n",
    "    StructField(\"PropertyType_S\", IntegerType(), True),\n",
    "    StructField(\"PropertyType_T\", IntegerType(), True),\n",
    "    StructField(\"PropertyType_F\", IntegerType(), True),\n",
    "    StructField(\"Old_New\", IntegerType(), True),\n",
    "    StructField(\"City_Label\", IntegerType(), True),\n",
    "    StructField(\"Duration\", IntegerType(), True),\n",
    "])\n",
    "\n",
    "def convert_to_correct_types(row):\n",
    "    fields = row.split(',')\n",
    "    try:\n",
    "        # Convert the necessary fields to correct types\n",
    "        price = float(fields[0])  \n",
    "        year = fields[1]  \n",
    "        month = fields[2]  \n",
    "        property_type_s = int(fields[3])  \n",
    "        property_type_t = int(fields[4])\n",
    "        property_type_f = int(fields[5])\n",
    "        old_new = int(fields[6]) \n",
    "        city_label = int(fields[7])  \n",
    "        duration = int(fields[8])  \n",
    "\n",
    "        return (price, year, month, property_type_s, property_type_t, property_type_f, old_new, city_label, duration)\n",
    "\n",
    "    except Exception as e:\n",
    "        print(f\"Error converting row: {row}, error: {e}\")\n",
    "        return None  \n",
    "\n",
    "\n",
    "rdd_converted = rdd_repartitioned_cleaned.map(convert_to_correct_types).filter(lambda x: x is not None)\n",
    "\n",
    "# Convert RDD to DataFrame\n",
    "df_cleaned = spark.createDataFrame(rdd_converted, schema)\n",
    "\n",
    "df_cleaned.show(10)"
   ]
  },
  {
   "cell_type": "code",
   "execution_count": 25,
   "id": "7b3c2989-fd47-4992-98f6-614b1d798e85",
   "metadata": {},
   "outputs": [
    {
     "name": "stderr",
     "output_type": "stream",
     "text": [
      "[Stage 103:=================================================>       (7 + 1) / 8]\r"
     ]
    },
    {
     "name": "stdout",
     "output_type": "stream",
     "text": [
      "+-------+--------------------+------------------+-----------------+-------------------+-------------------+------------------+--------+------------------+--------+\n",
      "|summary|               Price|              Year|            Month|     PropertyType_S|     PropertyType_T|    PropertyType_F| Old_New|        City_Label|Duration|\n",
      "+-------+--------------------+------------------+-----------------+-------------------+-------------------+------------------+--------+------------------+--------+\n",
      "|  count|            22315831|          22315831|         22315831|           22315831|           22315831|          22315831|22315831|          22315831|22315831|\n",
      "|   mean|0.001799088186735...|2005.1509571389029|6.756839259089209|0.15295034274098956|0.17129498784965705|0.5502186765977929|     0.0| 271.3472425920415|     0.0|\n",
      "| stddev|0.003795253585008...|6.3167554267459725|3.334978771917016|0.35993963549739105|0.37676653427332285|0.4974717033264992|     0.0|246.00310118159302|     0.0|\n",
      "|    min|                 0.0|              1995|               01|                  0|                  0|                 0|       0|                 0|       0|\n",
      "|    max|                 1.0|              2017|               12|                  1|                  1|                 1|       0|              1100|       0|\n",
      "+-------+--------------------+------------------+-----------------+-------------------+-------------------+------------------+--------+------------------+--------+\n",
      "\n"
     ]
    },
    {
     "name": "stderr",
     "output_type": "stream",
     "text": [
      "                                                                                \r"
     ]
    }
   ],
   "source": [
    "df_cleaned.describe().show()"
   ]
  },
  {
   "cell_type": "markdown",
   "id": "03a99cb3-b8db-453d-9453-536dddd2f913",
   "metadata": {},
   "source": [
    "#### Specify output path as parquet"
   ]
  },
  {
   "cell_type": "code",
   "execution_count": 26,
   "id": "b27927a1-89d8-4b77-8296-d167f1e1607d",
   "metadata": {},
   "outputs": [],
   "source": [
    "parquet_output_path = \"hdfs://namenode:9000/user/ubuntu/FinalProject/Parquet_Clean_Data\""
   ]
  },
  {
   "cell_type": "code",
   "execution_count": 27,
   "id": "a847717e-9b44-4dc6-ac1c-3115822d0fd1",
   "metadata": {},
   "outputs": [
    {
     "name": "stderr",
     "output_type": "stream",
     "text": [
      "[Stage 112:=================================================>       (7 + 1) / 8]\r"
     ]
    },
    {
     "name": "stdout",
     "output_type": "stream",
     "text": [
      "DataFrame successfully saved as Parquet at: hdfs://namenode:9000/user/ubuntu/FinalProject/Parquet_Clean_Data\n"
     ]
    },
    {
     "name": "stderr",
     "output_type": "stream",
     "text": [
      "                                                                                \r"
     ]
    }
   ],
   "source": [
    "df_cleaned.write.mode(\"overwrite\").parquet(parquet_output_path)\n",
    "print(f\"DataFrame successfully saved as Parquet at: {parquet_output_path}\")"
   ]
  },
  {
   "cell_type": "code",
   "execution_count": 28,
   "id": "f7485297-3784-48a7-a1a0-77c80311cc3f",
   "metadata": {},
   "outputs": [],
   "source": [
    "spark.stop()"
   ]
  },
  {
   "cell_type": "markdown",
   "id": "9b8f95c6-a4d3-4f49-94d3-078423940d6e",
   "metadata": {},
   "source": [
    "## Step 3: Gold Layer"
   ]
  },
  {
   "cell_type": "code",
   "execution_count": 29,
   "id": "81ddf8af-56f9-46b3-9484-84267005f619",
   "metadata": {},
   "outputs": [
    {
     "name": "stderr",
     "output_type": "stream",
     "text": [
      "                                                                                \r"
     ]
    },
    {
     "name": "stdout",
     "output_type": "stream",
     "text": [
      "Training Data Count: 17851810\n"
     ]
    },
    {
     "name": "stderr",
     "output_type": "stream",
     "text": [
      "[Stage 9:==============================================>           (8 + 2) / 10]\r"
     ]
    },
    {
     "name": "stdout",
     "output_type": "stream",
     "text": [
      "Test Data Count: 4464021\n"
     ]
    },
    {
     "name": "stderr",
     "output_type": "stream",
     "text": [
      "                                                                                \r"
     ]
    }
   ],
   "source": [
    "# Increase memory allocations\n",
    "\n",
    "spark = SparkSession.builder \\\n",
    "    .appName(\"HousingPricePrediction\") \\\n",
    "    .config(\"spark.driver.memory\", \"6g\") \\\n",
    "    .config(\"spark.executor.memory\", \"6g\") \\\n",
    "    .config(\"spark.sql.shuffle.partitions\", \"300\") \\\n",
    "    .getOrCreate()\n",
    "\n",
    "# Read the parquet data\n",
    "df_cleaned_parquet = spark.read.parquet(parquet_output_path)\n",
    "df_cleaned_parquet = df_cleaned_parquet.repartition(10)\n",
    "\n",
    "# Split the data\n",
    "train_data, test_data = df_cleaned_parquet.randomSplit([0.8, 0.2], seed=42)\n",
    "\n",
    "print(f\"Training Data Count: {train_data.count()}\")\n",
    "print(f\"Test Data Count: {test_data.count()}\")\n"
   ]
  },
  {
   "cell_type": "markdown",
   "id": "4ad06176-b7af-45eb-a783-567ded4a8787",
   "metadata": {},
   "source": [
    "#### Prepare the Data for Training"
   ]
  },
  {
   "cell_type": "code",
   "execution_count": 30,
   "id": "b6ea04c3-0437-49ea-9350-c212c0d73b38",
   "metadata": {},
   "outputs": [
    {
     "name": "stdout",
     "output_type": "stream",
     "text": [
      "Requirement already satisfied: numpy in /home/ubuntu/.local/lib/python3.8/site-packages (1.24.4)\n"
     ]
    }
   ],
   "source": [
    "!pip install numpy"
   ]
  },
  {
   "cell_type": "code",
   "execution_count": 31,
   "id": "a3539fca-1d3b-43be-b723-588c5c7eab81",
   "metadata": {},
   "outputs": [],
   "source": [
    "# Convert 'Year' and 'Month' columns to integers\n",
    "train_data = train_data.withColumn(\"Year\", train_data[\"Year\"].cast(\"integer\"))\n",
    "train_data = train_data.withColumn(\"Month\", train_data[\"Month\"].cast(\"integer\"))\n",
    "\n",
    "test_data = test_data.withColumn(\"Year\", test_data[\"Year\"].cast(\"integer\"))\n",
    "test_data = test_data.withColumn(\"Month\", test_data[\"Month\"].cast(\"integer\"))\n"
   ]
  },
  {
   "cell_type": "code",
   "execution_count": 32,
   "id": "6d522226-37d6-43e9-ad0d-cdff857ddd18",
   "metadata": {},
   "outputs": [
    {
     "name": "stdout",
     "output_type": "stream",
     "text": [
      "root\n",
      " |-- Price: float (nullable = true)\n",
      " |-- Year: integer (nullable = true)\n",
      " |-- Month: integer (nullable = true)\n",
      " |-- PropertyType_S: integer (nullable = true)\n",
      " |-- PropertyType_T: integer (nullable = true)\n",
      " |-- PropertyType_F: integer (nullable = true)\n",
      " |-- Old_New: integer (nullable = true)\n",
      " |-- City_Label: integer (nullable = true)\n",
      " |-- Duration: integer (nullable = true)\n",
      "\n"
     ]
    }
   ],
   "source": [
    "train_data.printSchema()"
   ]
  },
  {
   "cell_type": "code",
   "execution_count": 55,
   "id": "adab37e6-5a26-4466-9fa2-b7b6df61df13",
   "metadata": {},
   "outputs": [
    {
     "name": "stderr",
     "output_type": "stream",
     "text": [
      "[Stage 7820:>                                                       (0 + 1) / 1]\r"
     ]
    },
    {
     "name": "stdout",
     "output_type": "stream",
     "text": [
      "+--------------------+-----+\n",
      "|            features|Price|\n",
      "+--------------------+-----+\n",
      "|(8,[0,1,4,6],[199...|  0.0|\n",
      "|(8,[0,1,4,6],[199...|  0.0|\n",
      "|(8,[0,1,3,6],[199...|  0.0|\n",
      "|(8,[0,1,3,6],[199...|  0.0|\n",
      "|(8,[0,1,4,6],[199...|  0.0|\n",
      "+--------------------+-----+\n",
      "only showing top 5 rows\n",
      "\n"
     ]
    },
    {
     "name": "stderr",
     "output_type": "stream",
     "text": [
      "                                                                                \r"
     ]
    }
   ],
   "source": [
    "from pyspark.ml.feature import VectorAssembler\n",
    "\n",
    "feature_columns = [\n",
    "    'Year', 'Month', 'PropertyType_S', 'PropertyType_T', 'PropertyType_F', \n",
    "    'Old_New', 'City_Label', 'Duration'\n",
    "]\n",
    "\n",
    "# Create VectorAssembler to combine feature columns into a single 'features' column\n",
    "feature_assembler = VectorAssembler(\n",
    "    inputCols=feature_columns,\n",
    "    outputCol='features'\n",
    ")\n",
    "\n",
    "final_train_data = feature_assembler.transform(train_data)\n",
    "final_test_data = feature_assembler.transform(test_data)\n",
    "\n",
    "final_train_data.select('features', 'Price').show(5)\n"
   ]
  },
  {
   "cell_type": "markdown",
   "id": "a5234de5-9a27-44db-8e69-d5a03bd17825",
   "metadata": {},
   "source": [
    "#### Delete a Pre-trained Model from HDFS Using PySpark and Hadoop FileSystem"
   ]
  },
  {
   "cell_type": "code",
   "execution_count": 34,
   "id": "6d72db8b-e473-4dc1-84c4-a718c55bd291",
   "metadata": {},
   "outputs": [
    {
     "name": "stdout",
     "output_type": "stream",
     "text": [
      "Model at hdfs://namenode:9000/user/ubuntu/FinalProject/price_prediction_model_RF has been successfully deleted.\n"
     ]
    }
   ],
   "source": [
    "from py4j.protocol import Py4JJavaError\n",
    "\n",
    "model_path = \"hdfs://namenode:9000/user/ubuntu/FinalProject/price_prediction_model_RF\"\n",
    "\n",
    "# Initialize the Hadoop FileSystem using the SparkSession's context\n",
    "hadoop_fs = spark._jvm.org.apache.hadoop.fs.FileSystem\n",
    "hadoop_conf = spark._jsc.hadoopConfiguration()  \n",
    "path = spark._jvm.org.apache.hadoop.fs.Path(model_path)\n",
    "\n",
    "try:\n",
    "    if hadoop_fs.get(hadoop_conf).exists(path):\n",
    "        hadoop_fs.get(hadoop_conf).delete(path, True)  \n",
    "        print(f\"Model at {model_path} has been successfully deleted.\")\n",
    "    else:\n",
    "        print(f\"No model found at {model_path} to delete.\")\n",
    "except Py4JJavaError as e:\n",
    "    print(f\"Error while trying to delete the model: {e}\")"
   ]
  },
  {
   "cell_type": "code",
   "execution_count": 35,
   "id": "8f7f5314-ebd3-4888-a96d-5ffd5647760f",
   "metadata": {},
   "outputs": [
    {
     "name": "stdout",
     "output_type": "stream",
     "text": [
      "Model at hdfs://namenode:9000/user/ubuntu/FinalProject/price_prediction_best_model_GBT has been successfully deleted.\n"
     ]
    }
   ],
   "source": [
    "from py4j.protocol import Py4JJavaError\n",
    "\n",
    "model_path = \"hdfs://namenode:9000/user/ubuntu/FinalProject/price_prediction_best_model_GBT\"\n",
    "\n",
    "# Initialize the Hadoop FileSystem using the SparkSession's context\n",
    "hadoop_fs = spark._jvm.org.apache.hadoop.fs.FileSystem\n",
    "hadoop_conf = spark._jsc.hadoopConfiguration()  \n",
    "path = spark._jvm.org.apache.hadoop.fs.Path(model_path)\n",
    "\n",
    "try:\n",
    "    if hadoop_fs.get(hadoop_conf).exists(path):\n",
    "        hadoop_fs.get(hadoop_conf).delete(path, True)  \n",
    "        print(f\"Model at {model_path} has been successfully deleted.\")\n",
    "    else:\n",
    "        print(f\"No model found at {model_path} to delete.\")\n",
    "except Py4JJavaError as e:\n",
    "    print(f\"Error while trying to delete the model: {e}\")"
   ]
  },
  {
   "cell_type": "code",
   "execution_count": 36,
   "id": "fd2a5ecc-5ab6-4ff8-bcfd-20dec1275108",
   "metadata": {},
   "outputs": [
    {
     "name": "stdout",
     "output_type": "stream",
     "text": [
      "Active SparkContext: <SparkContext master=local[*] appName=HousingPricePrediction>\n",
      "Active SparkSession: <pyspark.sql.session.SparkSession object at 0x7fe7cc8c85b0>\n"
     ]
    }
   ],
   "source": [
    "from pyspark.sql import SparkSession\n",
    "\n",
    "spark = SparkSession.builder \\\n",
    "    .appName(\"HousingPricePrediction\") \\\n",
    "    .config(\"spark.executor.memory\", \"4g\") \\\n",
    "    .config(\"spark.executor.cores\", \"4\") \\\n",
    "    .config(\"spark.driver.memory\", \"4g\") \\\n",
    "    .config(\"spark.sql.shuffle.partitions\", \"8\") \\\n",
    "    .getOrCreate()\n",
    "\n",
    "sc = spark.sparkContext\n",
    "\n",
    "# Confirm SparkContext and SparkSession are properly initialized\n",
    "print(f\"Active SparkContext: {sc}\")\n",
    "print(f\"Active SparkSession: {spark}\")"
   ]
  },
  {
   "cell_type": "markdown",
   "id": "d57aceec-1c59-498a-b7a7-82ab3c42bd37",
   "metadata": {},
   "source": [
    "#### Train the Random Forest Model"
   ]
  },
  {
   "cell_type": "code",
   "execution_count": 37,
   "id": "2b683a9c-85b7-4860-969b-a88fd1f8458b",
   "metadata": {
    "scrolled": true
   },
   "outputs": [
    {
     "name": "stderr",
     "output_type": "stream",
     "text": [
      "                                                                                \r"
     ]
    },
    {
     "name": "stdout",
     "output_type": "stream",
     "text": [
      "Execution time: 289.5177299976349 seconds\n",
      "Best maxDepth: 10\n",
      "Best numTrees: 20\n",
      "Best maxBins: 16\n"
     ]
    }
   ],
   "source": [
    "import time \n",
    "from pyspark.ml import Pipeline\n",
    "from pyspark.ml.evaluation import RegressionEvaluator\n",
    "from pyspark.ml.regression import RandomForestRegressor\n",
    "from pyspark.ml.tuning import ParamGridBuilder, CrossValidator\n",
    "\n",
    "rf = RandomForestRegressor(featuresCol='features', labelCol='Price')\n",
    "\n",
    "# Create the pipeline \n",
    "rf_pipeline = Pipeline(stages=[rf])\n",
    "\n",
    "# Define the parameter grid for tuning\n",
    "paramGrid = ParamGridBuilder() \\\n",
    "    .addGrid(rf.maxDepth, [5, 10]) \\\n",
    "    .addGrid(rf.numTrees, [20]) \\\n",
    "    .addGrid(rf.maxBins, [16]) \\\n",
    "    .build()\n",
    "\n",
    "\n",
    "\n",
    "evaluator = RegressionEvaluator(labelCol='Price', predictionCol='prediction', metricName='rmse')\n",
    "\n",
    "# CrossValidator\n",
    "crossval = CrossValidator(estimator=rf_pipeline,\n",
    "                          estimatorParamMaps=paramGrid,\n",
    "                          evaluator=evaluator,\n",
    "                          numFolds=2)  \n",
    "\n",
    "start_time = time.time()\n",
    "\n",
    "sampled_train_data = final_train_data.sample(False, 0.1, seed=42)  # 10% of the data\n",
    "# Train\n",
    "rf_model = crossval.fit(sampled_train_data)\n",
    "\n",
    "\n",
    "end_time = time.time()\n",
    "execution_time = end_time - start_time\n",
    "\n",
    "print(f\"Execution time: {execution_time} seconds\")\n",
    "\n",
    "rf_model.save(\"hdfs://namenode:9000/user/ubuntu/FinalProject/price_prediction_model_RF\")\n",
    "best_rf_model = rf_model.bestModel\n",
    "\n",
    "# Print the best hyperparameters\n",
    "print(f\"Best maxDepth: {best_rf_model.stages[-1]._java_obj.getMaxDepth()}\")\n",
    "print(f\"Best numTrees: {best_rf_model.stages[-1]._java_obj.getNumTrees()}\")\n",
    "print(f\"Best maxBins: {best_rf_model.stages[-1]._java_obj.getMaxBins()}\")\n"
   ]
  },
  {
   "cell_type": "markdown",
   "id": "45a2869b-b122-48f2-8d4a-68bf7d723439",
   "metadata": {},
   "source": [
    "#### Train the Gradient Boosting Trees Regressor Model"
   ]
  },
  {
   "cell_type": "code",
   "execution_count": 38,
   "id": "b0e08c07-d808-4e3f-85e6-57565bf1e89e",
   "metadata": {},
   "outputs": [
    {
     "name": "stderr",
     "output_type": "stream",
     "text": [
      "                                                                                \r"
     ]
    },
    {
     "name": "stdout",
     "output_type": "stream",
     "text": [
      "Execution time for Gradient Boosting: 1204.4072623252869 seconds\n",
      "Best maxDepth for GBT: 5\n",
      "Best maxBins for GBT: 32\n",
      "Best maxIter for GBT: 50\n"
     ]
    }
   ],
   "source": [
    "from pyspark.ml.regression import GBTRegressor\n",
    "from pyspark.ml import Pipeline\n",
    "from pyspark.ml.tuning import ParamGridBuilder, CrossValidator\n",
    "from pyspark.ml.evaluation import RegressionEvaluator\n",
    "import time\n",
    "\n",
    "\n",
    "\n",
    "gbt = GBTRegressor(featuresCol='features', labelCol='Price')\n",
    "\n",
    "# Create the pipeline\n",
    "gbt_pipeline = Pipeline(stages=[gbt])\n",
    "\n",
    "# Define the parameter grid for tuning\n",
    "paramGrid_gbt = ParamGridBuilder() \\\n",
    "    .addGrid(gbt.maxDepth, [5, 10]) \\\n",
    "    .addGrid(gbt.maxBins, [32]) \\\n",
    "    .addGrid(gbt.maxIter, [50]) \\\n",
    "    .build()\n",
    "\n",
    "# Cross-validation \n",
    "crossval_gbt = CrossValidator(estimator=gbt_pipeline,\n",
    "                              estimatorParamMaps=paramGrid_gbt,\n",
    "                              evaluator=evaluator,\n",
    "                              numFolds=3)  # Adjust fold count as needed\n",
    "\n",
    "\n",
    "start_time = time.time()\n",
    "\n",
    "sampled_train_data = final_train_data.sample(False, 0.1, seed=42) # 10% of the data\n",
    "# Train\n",
    "cv_gbt_model = crossval_gbt.fit(sampled_train_data)\n",
    "\n",
    "end_time = time.time()\n",
    "execution_time_gbt = end_time - start_time\n",
    "print(f\"Execution time for Gradient Boosting: {execution_time_gbt} seconds\")\n",
    "\n",
    "\n",
    "best_gbt_model = cv_gbt_model.bestModel\n",
    "best_gbt_model.save(\"hdfs://namenode:9000/user/ubuntu/FinalProject/price_prediction_best_model_GBT\")\n",
    "\n",
    "# Print best hyperparameters for Gradient Boosting\n",
    "print(f\"Best maxDepth for GBT: {best_gbt_model.stages[-1]._java_obj.getMaxDepth()}\")\n",
    "print(f\"Best maxBins for GBT: {best_gbt_model.stages[-1]._java_obj.getMaxBins()}\")\n",
    "print(f\"Best maxIter for GBT: {best_gbt_model.stages[-1]._java_obj.getMaxIter()}\")"
   ]
  },
  {
   "cell_type": "markdown",
   "id": "b899d200-9f14-40f4-894c-28d7f9bafbcf",
   "metadata": {},
   "source": [
    "#### Evaluation"
   ]
  },
  {
   "cell_type": "code",
   "execution_count": 48,
   "id": "d159c052-dc80-42f4-becb-5cc8e4c38318",
   "metadata": {},
   "outputs": [],
   "source": [
    "import matplotlib.pyplot as plt\n",
    "import seaborn as sns\n",
    "import pandas as pd"
   ]
  },
  {
   "cell_type": "code",
   "execution_count": 39,
   "id": "09dced91-209d-44db-80c3-d646acf88ccc",
   "metadata": {},
   "outputs": [
    {
     "name": "stderr",
     "output_type": "stream",
     "text": [
      "                                                                                \r"
     ]
    },
    {
     "name": "stdout",
     "output_type": "stream",
     "text": [
      "Random Forest - Train - RMSE: 0.0036449643345085234, MAE: 0.0008857060759711315, R²: 0.08505972011653051\n"
     ]
    },
    {
     "name": "stderr",
     "output_type": "stream",
     "text": [
      "                                                                                \r"
     ]
    },
    {
     "name": "stdout",
     "output_type": "stream",
     "text": [
      "Random Forest - Test - RMSE: 0.08729160848260498, MAE: 0.0008856257334322141, R²: 0.08729160848260498\n"
     ]
    },
    {
     "name": "stderr",
     "output_type": "stream",
     "text": [
      "                                                                                \r"
     ]
    },
    {
     "name": "stdout",
     "output_type": "stream",
     "text": [
      "Gradient Boosting - Train - RMSE: 0.09302290267123547, MAE: 0.0008732182737199777, R²: 0.09302290267123547\n"
     ]
    },
    {
     "name": "stderr",
     "output_type": "stream",
     "text": [
      "[Stage 7849:============================================>          (8 + 2) / 10]\r"
     ]
    },
    {
     "name": "stdout",
     "output_type": "stream",
     "text": [
      "Gradient Boosting - Test - RMSE: 0.09576897035899645, MAE: 0.0008730111273472933, R²: 0.09576897035899645\n"
     ]
    },
    {
     "name": "stderr",
     "output_type": "stream",
     "text": [
      "                                                                                \r"
     ]
    }
   ],
   "source": [
    "def calculate_errors(model, data, dataset_name):\n",
    "    predictions = model.transform(data)\n",
    "    rmse = evaluator.evaluate(predictions)\n",
    "    mae = evaluator.setMetricName('mae').evaluate(predictions)\n",
    "    r2 = evaluator.setMetricName('r2').evaluate(predictions)\n",
    "    print(f\"{dataset_name} - RMSE: {rmse}, MAE: {mae}, R²: {r2}\")\n",
    "    return rmse, mae, r2\n",
    "\n",
    "# Evaluate errors on train and test data\n",
    "\n",
    "#Random Forest \n",
    "train_rf_rmse, train_rf_mae, train_rf_r2 = calculate_errors(best_rf_model, final_train_data, \"Random Forest - Train\")\n",
    "test_rf_rmse, test_rf_mae, test_rf_r2 = calculate_errors(best_rf_model, final_test_data, \"Random Forest - Test\")\n",
    "\n",
    "#Gradient Boosting\n",
    "train_gbt_rmse, train_gbt_mae, train_gbt_r2 = calculate_errors(best_gbt_model, final_train_data, \"Gradient Boosting - Train\")\n",
    "test_gbt_rmse, test_gbt_mae, test_gbt_r2 = calculate_errors(best_gbt_model, final_test_data, \"Gradient Boosting - Test\")\n"
   ]
  },
  {
   "cell_type": "code",
   "execution_count": 41,
   "id": "39700b18-de64-4448-a674-7f691df30fc8",
   "metadata": {},
   "outputs": [
    {
     "name": "stdout",
     "output_type": "stream",
     "text": [
      "Model Performance Comparison:\n",
      "           Model      RMSE       MAE        R²\n",
      "0  Random Forest  0.087292  0.000886  0.087292\n",
      "1        XGBoost  0.095769  0.000873  0.095769\n"
     ]
    }
   ],
   "source": [
    "metrics_dict = {\n",
    "    'Model': ['Random Forest','XGBoost'],\n",
    "    'RMSE': [test_rf_rmse, test_gbt_rmse],\n",
    "    'MAE': [test_rf_mae, test_gbt_mae],\n",
    "    'R²': [test_rf_r2, test_gbt_r2]\n",
    "}\n",
    "\n",
    "# Convert the dictionary to a pandas DataFrame\n",
    "metrics_df = pd.DataFrame(metrics_dict)\n",
    "\n",
    "print(\"Model Performance Comparison:\")\n",
    "print(metrics_df)"
   ]
  },
  {
   "cell_type": "markdown",
   "id": "fba25fe5-4b8a-434c-8b4d-c0f1163b82e9",
   "metadata": {},
   "source": [
    "##### - **RMSE** measures the average magnitude of errors, with a higher penalty for larger errors.\n",
    "##### - **MAE** calculates the average absolute differences between predicted and actual values.\n",
    "##### - **R²** indicates the proportion of variance explained by the model."
   ]
  },
  {
   "cell_type": "markdown",
   "id": "b9170c47-73a1-4693-a596-e2e2afb09ab9",
   "metadata": {},
   "source": [
    "#### Plot MAE as a bar chart"
   ]
  },
  {
   "cell_type": "code",
   "execution_count": 42,
   "id": "85a6e036-10d7-46fa-b867-a8343765a294",
   "metadata": {},
   "outputs": [
    {
     "name": "stderr",
     "output_type": "stream",
     "text": [
      "/tmp/ipykernel_107386/2380075396.py:3: FutureWarning: \n",
      "\n",
      "Passing `palette` without assigning `hue` is deprecated and will be removed in v0.14.0. Assign the `x` variable to `hue` and set `legend=False` for the same effect.\n",
      "\n",
      "  sns.barplot(data=metrics_df, x='Model', y='MAE', palette='viridis')\n"
     ]
    },
    {
     "data": {
      "image/png": "[encoded data removed]",
      "text/plain": [
       "<Figure size 1000x600 with 1 Axes>"
      ]
     },
     "metadata": {},
     "output_type": "display_data"
    }
   ],
   "source": [
    "\n",
    "plt.figure(figsize=(10, 6))\n",
    "sns.barplot(data=metrics_df, x='Model', y='MAE', palette='viridis')\n",
    "\n",
    "plt.title('Model Comparison: MAE', fontsize=16)\n",
    "plt.xlabel('Model', fontsize=14)\n",
    "plt.ylabel('MAE', fontsize=14)\n",
    "plt.xticks(rotation=45)\n",
    "plt.tight_layout()\n",
    "\n",
    "plt.show()"
   ]
  },
  {
   "cell_type": "markdown",
   "id": "1ac5d671-a5fc-47be-915a-c055a0b13f93",
   "metadata": {},
   "source": [
    "#### Plot R² as a bar chart"
   ]
  },
  {
   "cell_type": "code",
   "execution_count": 43,
   "id": "7ff02a4b-d217-4bf7-b9e2-13fd057386ed",
   "metadata": {},
   "outputs": [
    {
     "name": "stderr",
     "output_type": "stream",
     "text": [
      "/tmp/ipykernel_107386/1055435227.py:3: FutureWarning: \n",
      "\n",
      "Passing `palette` without assigning `hue` is deprecated and will be removed in v0.14.0. Assign the `x` variable to `hue` and set `legend=False` for the same effect.\n",
      "\n",
      "  sns.barplot(data=metrics_df, x='Model', y='R²', palette='viridis')\n"
     ]
    },
    {
     "data": {
      "image/png": "[encoded data removed]",
      "text/plain": [
       "<Figure size 1000x600 with 1 Axes>"
      ]
     },
     "metadata": {},
     "output_type": "display_data"
    }
   ],
   "source": [
    "plt.figure(figsize=(10, 6))\n",
    "sns.barplot(data=metrics_df, x='Model', y='R²', palette='viridis')\n",
    "\n",
    "plt.title('Model Comparison: R²', fontsize=16)\n",
    "plt.xlabel('Model', fontsize=14)\n",
    "plt.ylabel('R²', fontsize=14)\n",
    "plt.xticks(rotation=45)\n",
    "plt.tight_layout()\n",
    "\n",
    "plt.show()"
   ]
  },
  {
   "cell_type": "markdown",
   "id": "04f30d86-bf8b-4809-a296-352175471144",
   "metadata": {},
   "source": [
    "#### Sample predictions"
   ]
  },
  {
   "cell_type": "code",
   "execution_count": 56,
   "id": "dfd0642a-4eda-4c75-b321-ba5b2572fefe",
   "metadata": {},
   "outputs": [
    {
     "name": "stdout",
     "output_type": "stream",
     "text": [
      "Price Min: 1\n",
      "Price Max: 98900000\n"
     ]
    }
   ],
   "source": [
    "print(\"Price Min:\", price_min)\n",
    "print(\"Price Max:\", price_max)"
   ]
  },
  {
   "cell_type": "code",
   "execution_count": 75,
   "id": "70b7ffef-2356-4f76-9618-92e4db5a2236",
   "metadata": {},
   "outputs": [],
   "source": [
    "rf_predictions = rf_model.transform(final_test_data)\n",
    "gbt_predictions = cv_gbt_model.transform(final_test_data)"
   ]
  },
  {
   "cell_type": "code",
   "execution_count": 76,
   "id": "5fb912ec-2744-43f5-8d0d-54d4b8a45c9f",
   "metadata": {},
   "outputs": [
    {
     "name": "stderr",
     "output_type": "stream",
     "text": [
      "[Stage 7856:>                                                       (0 + 1) / 1]\r"
     ]
    },
    {
     "name": "stdout",
     "output_type": "stream",
     "text": [
      "+------------+--------------------+--------------------+\n",
      "|       Price|       RF_Prediction|      GBT_Prediction|\n",
      "+------------+--------------------+--------------------+\n",
      "|         0.0|8.622232492447859E-4|6.741613440170983E-4|\n",
      "|         0.0|8.445608784199556E-4|7.080599271763445E-4|\n",
      "|         0.0|0.001544718140912...|0.001389767062696...|\n",
      "|         0.0|0.001369814278544...|0.001149583689202...|\n",
      "|1.4155712E-7| 7.77695588223083E-4| 6.58628768220605E-4|\n",
      "|1.0010111E-6|8.333398727798184E-4|6.652869463855481E-4|\n",
      "|1.0010111E-6|0.002685622324380867|0.002889732369098301|\n",
      "|1.5065723E-6|8.096543997064395E-4|6.383083127675345E-4|\n",
      "|2.0121336E-6|8.879710450347591E-4|6.922502915113749E-4|\n",
      "|2.0121336E-6|0.008299066307092203|0.014360001212054555|\n",
      "+------------+--------------------+--------------------+\n",
      "only showing top 10 rows\n",
      "\n"
     ]
    },
    {
     "name": "stderr",
     "output_type": "stream",
     "text": [
      "                                                                                \r"
     ]
    }
   ],
   "source": [
    "from pyspark.sql.functions import monotonically_increasing_id\n",
    "\n",
    "final_test_data2_indexed = final_test_data.select(\"Price\").withColumn(\"id\", monotonically_increasing_id())\n",
    "rf_predictions_indexed = rf_predictions.select(\"prediction\").withColumnRenamed(\"prediction\", \"RF_Prediction\").withColumn(\"id\", monotonically_increasing_id())\n",
    "gbt_predictions_indexed = gbt_predictions.select(\"prediction\").withColumnRenamed(\"prediction\", \"GBT_Prediction\").withColumn(\"id\", monotonically_increasing_id())\n",
    "\n",
    "combined_df = final_test_data2_indexed.join(rf_predictions_indexed, \"id\").join(gbt_predictions_indexed, \"id\")\n",
    "combined_df = combined_df.drop(\"id\")\n",
    "combined_df.show(10)"
   ]
  },
  {
   "cell_type": "markdown",
   "id": "ca192302-545b-4f3a-a933-e89a6055c738",
   "metadata": {},
   "source": [
    "####  Store as a Delta table"
   ]
  },
  {
   "cell_type": "code",
   "execution_count": null,
   "id": "62d8c23e-8589-4a7c-b058-e9ad4ffa09f0",
   "metadata": {},
   "outputs": [],
   "source": [
    "DeltaDataPath = \"hdfs://namenode:9000/user/ubuntu/FinalProject/Delta_trainData\"\n",
    "final_train_data.write.format(\"delta\").mode(\"overwrite\").save(DeltaDataPath)"
   ]
  },
  {
   "cell_type": "markdown",
   "id": "6aaebdc9-94d9-4342-91dc-45d133bea3b7",
   "metadata": {},
   "source": [
    "### Use the test data as a new data for the updating part"
   ]
  },
  {
   "cell_type": "code",
   "execution_count": null,
   "id": "d2714b71-5bec-4f9c-ae54-279837cd6896",
   "metadata": {},
   "outputs": [],
   "source": [
    "Newdata = \"hdfs://namenode:9000/user/ubuntu/FinalProject/Delta_testData\"\n",
    "final_test_data.write.format(\"delta\").mode(\"overwrite\").save(Newdata)"
   ]
  },
  {
   "cell_type": "code",
   "execution_count": null,
   "id": "1a9e5fcf-6962-4507-98f9-bedf00059b55",
   "metadata": {},
   "outputs": [],
   "source": [
    "####################################Update delta with new data(increremental) ##########################################\n",
    "\n",
    "from pyspark.sql import SparkSession\n",
    "from pyspark.ml.feature import VectorAssembler\n",
    "from pyspark.ml.tuning import CrossValidator\n",
    "from pyspark.ml.regression import RandomForestRegressor\n",
    "from pyspark.ml import Pipeline\n",
    "from delta.tables import DeltaTable\n",
    "\n",
    "\n",
    "spark = SparkSession.builder \\\n",
    "    .appName(\"Incremental Model Update with Delta\") \\\n",
    "    .config(\"spark.sql.extensions\", \"io.delta.sql.DeltaSparkSessionExtension\") \\\n",
    "    .config(\"spark.sql.catalog.spark_catalog\", \"org.apache.spark.sql.delta.catalog.DeltaCatalog\") \\\n",
    "    .getOrCreate()\n",
    "\n",
    "delta_train_data = spark.read.format(\"delta\").load(DeltaDataPath)\n",
    "new_data_path = spark.read.format(\"delta\").load(Newdata)\n",
    "\n",
    "# Step 1: Ingest New Data and Existing Data from Delta\n",
    "new_data_df = spark.read.csv(new_data_path, header=True)\n",
    "\n",
    "\n",
    "if DeltaTable.isDeltaTable(spark, delta_train_data):\n",
    "    existing_data_delta_table = DeltaTable.forPath(spark, final_train_data)\n",
    "    existing_data_df = existing_data_delta_table.toDF()\n",
    "else:\n",
    "    existing_data_df = None\n",
    "\n",
    "# Step 2: Data Comparison\n",
    "if existing_data_df is None or existing_data_df.rdd.isEmpty():\n",
    "    print(\"No existing data found, saving new data as the initial dataset.\")\n",
    "    new_data_df.write.format(\"delta\").mode(\"overwrite\").save(delta_train_data)\n",
    "else:\n",
    "    new_data_df.createOrReplaceTempView(\"new_data\")\n",
    "    existing_data_df.createOrReplaceTempView(\"existing_data\")\n",
    "\n",
    "    delta_updates_df = spark.sql(\"\"\"\n",
    "        SELECT new_data.*\n",
    "        FROM new_data\n",
    "        LEFT ANTI JOIN existing_data\n",
    "        ON new_data.ID = existing_data.ID\n",
    "    \"\"\")\n",
    "\n",
    "    if delta_updates_df.rdd.isEmpty():\n",
    "        print(\"No new data available for updating.\")\n",
    "    else:\n",
    "        print(\"New data detected, updating Delta table and model...\")\n",
    "\n",
    "        # Step 3: Merge new data into the existing Delta table (only append new rows)\n",
    "        existing_data_delta_table.alias(\"existing\") \\\n",
    "            .merge(\n",
    "                delta_updates_df.alias(\"new\"),\n",
    "                \"existing.ID = new.ID\"  # Assume 'ID' is the unique identifier\n",
    "            ) \\\n",
    "            .whenNotMatchedInsertAll() \\\n",
    "            .execute()\n",
    "\n",
    "        # Step 4: Model Update Logic\n",
    "        combined_data_df = existing_data_delta_table.toDF()\n",
    "\n",
    "        feature_columns = ['Year', 'Month', 'PropertyType_S', 'PropertyType_T', 'PropertyType_F', 'Old_New', 'City_Label', 'Duration']\n",
    "        feature_assembler = VectorAssembler(inputCols=feature_columns, outputCol='features')\n",
    "        final_train_data = feature_assembler.transform(combined_data_df)\n",
    "\n",
    "        rf = RandomForestRegressor(featuresCol='features', labelCol='Price')\n",
    "        rf_pipeline = Pipeline(stages=[rf])\n",
    "\n",
    "        # Fit the model with updated data\n",
    "        rf_model = rf_pipeline.fit(delta_train_data)\n",
    "\n",
    "        rf_model.save(\"hdfs://namenode:9000/user/ubuntu/FinalProject/updated_model\")\n",
    "        print(\"Model updated successfully.\")\n",
    "\n",
    "spark.stop()"
   ]
  }
 ],
 "metadata": {
  "kernelspec": {
   "display_name": "Python 3 (ipykernel)",
   "language": "python",
   "name": "python3"
  },
  "language_info": {
   "codemirror_mode": {
    "name": "ipython",
    "version": 3
   },
   "file_extension": ".py",
   "mimetype": "text/x-python",
   "name": "python",
   "nbconvert_exporter": "python",
   "pygments_lexer": "ipython3",
   "version": "3.8.10"
  }
 },
 "nbformat": 4,
 "nbformat_minor": 5
}
